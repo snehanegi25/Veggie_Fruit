{
 "cells": [
  {
   "cell_type": "code",
   "execution_count": 3,
   "metadata": {},
   "outputs": [],
   "source": [
    "import pandas as pd\n",
    "import numpy as np\n",
    "from datetime import datetime\n",
    "import matplotlib.pyplot as plt\n",
    "%matplotlib inline\n",
    "import seaborn as sns\n",
    "plt.rcParams['figure.figsize'] = (5, 5)"
   ]
  },
  {
   "cell_type": "code",
   "execution_count": 4,
   "metadata": {},
   "outputs": [],
   "source": [
    "df = pd.read_csv('set/Dataset_VegetableFruits.csv')"
   ]
  },
  {
   "cell_type": "code",
   "execution_count": 5,
   "metadata": {},
   "outputs": [
    {
     "data": {
      "text/html": [
       "<div>\n",
       "<style scoped>\n",
       "    .dataframe tbody tr th:only-of-type {\n",
       "        vertical-align: middle;\n",
       "    }\n",
       "\n",
       "    .dataframe tbody tr th {\n",
       "        vertical-align: top;\n",
       "    }\n",
       "\n",
       "    .dataframe thead th {\n",
       "        text-align: right;\n",
       "    }\n",
       "</style>\n",
       "<table border=\"1\" class=\"dataframe\">\n",
       "  <thead>\n",
       "    <tr style=\"text-align: right;\">\n",
       "      <th></th>\n",
       "      <th>SN</th>\n",
       "      <th>Commodity</th>\n",
       "      <th>Date</th>\n",
       "      <th>Unit</th>\n",
       "      <th>Cost</th>\n",
       "      <th>Average</th>\n",
       "    </tr>\n",
       "  </thead>\n",
       "  <tbody>\n",
       "    <tr>\n",
       "      <th>54987</th>\n",
       "      <td>54987</td>\n",
       "      <td>Turnip A</td>\n",
       "      <td>16-11+2017</td>\n",
       "      <td>Kg</td>\n",
       "      <td>40</td>\n",
       "      <td>45.0</td>\n",
       "    </tr>\n",
       "    <tr>\n",
       "      <th>190002</th>\n",
       "      <td>190002</td>\n",
       "      <td>Chilli Green(Machhe)</td>\n",
       "      <td>02-03+2023</td>\n",
       "      <td>KG</td>\n",
       "      <td>70</td>\n",
       "      <td>75.0</td>\n",
       "    </tr>\n",
       "    <tr>\n",
       "      <th>177290</th>\n",
       "      <td>177290</td>\n",
       "      <td>Barela</td>\n",
       "      <td>18-10+2022</td>\n",
       "      <td>Kg</td>\n",
       "      <td>50</td>\n",
       "      <td>55.0</td>\n",
       "    </tr>\n",
       "    <tr>\n",
       "      <th>161425</th>\n",
       "      <td>161425</td>\n",
       "      <td>Bottle Gourd</td>\n",
       "      <td>18-02+2022</td>\n",
       "      <td>Kg</td>\n",
       "      <td>50</td>\n",
       "      <td>55.0</td>\n",
       "    </tr>\n",
       "    <tr>\n",
       "      <th>147262</th>\n",
       "      <td>147262</td>\n",
       "      <td>Soyabean Green</td>\n",
       "      <td>19-08+2021</td>\n",
       "      <td>Kg</td>\n",
       "      <td>95</td>\n",
       "      <td>97.5</td>\n",
       "    </tr>\n",
       "    <tr>\n",
       "      <th>...</th>\n",
       "      <td>...</td>\n",
       "      <td>...</td>\n",
       "      <td>...</td>\n",
       "      <td>...</td>\n",
       "      <td>...</td>\n",
       "      <td>...</td>\n",
       "    </tr>\n",
       "    <tr>\n",
       "      <th>154359</th>\n",
       "      <td>154359</td>\n",
       "      <td>Raddish White(Local)</td>\n",
       "      <td>25-11+2021</td>\n",
       "      <td>Kg</td>\n",
       "      <td>45</td>\n",
       "      <td>47.5</td>\n",
       "    </tr>\n",
       "    <tr>\n",
       "      <th>158044</th>\n",
       "      <td>158044</td>\n",
       "      <td>Cabbage(Terai)</td>\n",
       "      <td>08-01+2022</td>\n",
       "      <td>Kg</td>\n",
       "      <td>35</td>\n",
       "      <td>37.5</td>\n",
       "    </tr>\n",
       "    <tr>\n",
       "      <th>143087</th>\n",
       "      <td>143087</td>\n",
       "      <td>Potato White</td>\n",
       "      <td>26-06+2021</td>\n",
       "      <td>Kg</td>\n",
       "      <td>25</td>\n",
       "      <td>26.5</td>\n",
       "    </tr>\n",
       "    <tr>\n",
       "      <th>10041</th>\n",
       "      <td>10041</td>\n",
       "      <td>Mint</td>\n",
       "      <td>15-12-2015</td>\n",
       "      <td>Kg</td>\n",
       "      <td>140</td>\n",
       "      <td>145.0</td>\n",
       "    </tr>\n",
       "    <tr>\n",
       "      <th>86566</th>\n",
       "      <td>86566</td>\n",
       "      <td>Papaya</td>\n",
       "      <td>08-02+2019</td>\n",
       "      <td>Kg</td>\n",
       "      <td>50</td>\n",
       "      <td>55.0</td>\n",
       "    </tr>\n",
       "  </tbody>\n",
       "</table>\n",
       "<p>100 rows × 6 columns</p>\n",
       "</div>"
      ],
      "text/plain": [
       "            SN             Commodity        Date Unit  Cost  Average\n",
       "54987    54987              Turnip A  16-11+2017   Kg    40     45.0\n",
       "190002  190002  Chilli Green(Machhe)  02-03+2023   KG    70     75.0\n",
       "177290  177290                Barela  18-10+2022   Kg    50     55.0\n",
       "161425  161425          Bottle Gourd  18-02+2022   Kg    50     55.0\n",
       "147262  147262        Soyabean Green  19-08+2021   Kg    95     97.5\n",
       "...        ...                   ...         ...  ...   ...      ...\n",
       "154359  154359  Raddish White(Local)  25-11+2021   Kg    45     47.5\n",
       "158044  158044        Cabbage(Terai)  08-01+2022   Kg    35     37.5\n",
       "143087  143087          Potato White  26-06+2021   Kg    25     26.5\n",
       "10041    10041                  Mint  15-12-2015   Kg   140    145.0\n",
       "86566    86566               Papaya   08-02+2019   Kg    50     55.0\n",
       "\n",
       "[100 rows x 6 columns]"
      ]
     },
     "execution_count": 5,
     "metadata": {},
     "output_type": "execute_result"
    }
   ],
   "source": [
    "df.sample(100)"
   ]
  },
  {
   "cell_type": "code",
   "execution_count": 6,
   "metadata": {},
   "outputs": [
    {
     "name": "stdout",
     "output_type": "stream",
     "text": [
      "<class 'pandas.core.frame.DataFrame'>\n",
      "RangeIndex: 197161 entries, 0 to 197160\n",
      "Data columns (total 6 columns):\n",
      " #   Column     Non-Null Count   Dtype  \n",
      "---  ------     --------------   -----  \n",
      " 0   SN         197161 non-null  object \n",
      " 1   Commodity  197161 non-null  object \n",
      " 2   Date       197161 non-null  object \n",
      " 3   Unit       197161 non-null  object \n",
      " 4   Cost       197161 non-null  int64  \n",
      " 5   Average    197161 non-null  float64\n",
      "dtypes: float64(1), int64(1), object(4)\n",
      "memory usage: 9.0+ MB\n"
     ]
    }
   ],
   "source": [
    "df.info()"
   ]
  },
  {
   "cell_type": "code",
   "execution_count": 7,
   "metadata": {},
   "outputs": [
    {
     "data": {
      "text/html": [
       "<div>\n",
       "<style scoped>\n",
       "    .dataframe tbody tr th:only-of-type {\n",
       "        vertical-align: middle;\n",
       "    }\n",
       "\n",
       "    .dataframe tbody tr th {\n",
       "        vertical-align: top;\n",
       "    }\n",
       "\n",
       "    .dataframe thead th {\n",
       "        text-align: right;\n",
       "    }\n",
       "</style>\n",
       "<table border=\"1\" class=\"dataframe\">\n",
       "  <thead>\n",
       "    <tr style=\"text-align: right;\">\n",
       "      <th></th>\n",
       "      <th>Cost</th>\n",
       "      <th>Average</th>\n",
       "    </tr>\n",
       "  </thead>\n",
       "  <tbody>\n",
       "    <tr>\n",
       "      <th>count</th>\n",
       "      <td>197161.000000</td>\n",
       "      <td>197161.000000</td>\n",
       "    </tr>\n",
       "    <tr>\n",
       "      <th>mean</th>\n",
       "      <td>85.423938</td>\n",
       "      <td>89.792611</td>\n",
       "    </tr>\n",
       "    <tr>\n",
       "      <th>std</th>\n",
       "      <td>77.058896</td>\n",
       "      <td>79.619003</td>\n",
       "    </tr>\n",
       "    <tr>\n",
       "      <th>min</th>\n",
       "      <td>1.000000</td>\n",
       "      <td>5.000000</td>\n",
       "    </tr>\n",
       "    <tr>\n",
       "      <th>25%</th>\n",
       "      <td>40.000000</td>\n",
       "      <td>42.500000</td>\n",
       "    </tr>\n",
       "    <tr>\n",
       "      <th>50%</th>\n",
       "      <td>60.000000</td>\n",
       "      <td>65.000000</td>\n",
       "    </tr>\n",
       "    <tr>\n",
       "      <th>75%</th>\n",
       "      <td>100.000000</td>\n",
       "      <td>105.000000</td>\n",
       "    </tr>\n",
       "    <tr>\n",
       "      <th>max</th>\n",
       "      <td>1800.000000</td>\n",
       "      <td>1900.000000</td>\n",
       "    </tr>\n",
       "  </tbody>\n",
       "</table>\n",
       "</div>"
      ],
      "text/plain": [
       "                Cost        Average\n",
       "count  197161.000000  197161.000000\n",
       "mean       85.423938      89.792611\n",
       "std        77.058896      79.619003\n",
       "min         1.000000       5.000000\n",
       "25%        40.000000      42.500000\n",
       "50%        60.000000      65.000000\n",
       "75%       100.000000     105.000000\n",
       "max      1800.000000    1900.000000"
      ]
     },
     "execution_count": 7,
     "metadata": {},
     "output_type": "execute_result"
    }
   ],
   "source": [
    "df.describe()"
   ]
  },
  {
   "cell_type": "code",
   "execution_count": 8,
   "metadata": {},
   "outputs": [
    {
     "data": {
      "text/plain": [
       "SN           0\n",
       "Commodity    0\n",
       "Date         0\n",
       "Unit         0\n",
       "Cost         0\n",
       "Average      0\n",
       "dtype: int64"
      ]
     },
     "execution_count": 8,
     "metadata": {},
     "output_type": "execute_result"
    }
   ],
   "source": [
    "df.isnull().sum()"
   ]
  },
  {
   "cell_type": "code",
   "execution_count": 9,
   "metadata": {},
   "outputs": [
    {
     "data": {
      "text/plain": [
       "0"
      ]
     },
     "execution_count": 9,
     "metadata": {},
     "output_type": "execute_result"
    }
   ],
   "source": [
    "df.duplicated().sum()"
   ]
  },
  {
   "cell_type": "code",
   "execution_count": 10,
   "metadata": {},
   "outputs": [
    {
     "data": {
      "text/plain": [
       "Ginger                  2751\n",
       "Cauli Local             2750\n",
       "Cabbage(Local)          2749\n",
       "Chilli Dry              2748\n",
       "Raddish White(Local)    2747\n",
       "                        ... \n",
       "Mango(Calcutte)           23\n",
       "Sweet Lime                14\n",
       "Musk Melon                10\n",
       "Mango(Chousa)              2\n",
       "Tomato Big(Local)          1\n",
       "Name: Commodity, Length: 133, dtype: int64"
      ]
     },
     "execution_count": 10,
     "metadata": {},
     "output_type": "execute_result"
    }
   ],
   "source": [
    "df.Commodity.value_counts()"
   ]
  },
  {
   "cell_type": "code",
   "execution_count": 11,
   "metadata": {},
   "outputs": [],
   "source": [
    "df['Date'] = df['Date'].astype(str)\n"
   ]
  },
  {
   "cell_type": "code",
   "execution_count": 12,
   "metadata": {},
   "outputs": [],
   "source": [
    "def replace_plus(date_str):\n",
    "    return date_str.replace('+', '-')"
   ]
  },
  {
   "cell_type": "code",
   "execution_count": 13,
   "metadata": {},
   "outputs": [],
   "source": [
    "df['Date'] = df['Date'].apply(replace_plus)"
   ]
  },
  {
   "cell_type": "code",
   "execution_count": 14,
   "metadata": {},
   "outputs": [],
   "source": [
    "def replace_plus(date_str):\n",
    "    return date_str.replace('/', '-')"
   ]
  },
  {
   "cell_type": "code",
   "execution_count": 15,
   "metadata": {},
   "outputs": [],
   "source": [
    "df['Date'] = df['Date'].apply(replace_plus)"
   ]
  },
  {
   "cell_type": "code",
   "execution_count": 16,
   "metadata": {},
   "outputs": [],
   "source": [
    "df['Date'] = pd.to_datetime(df['Date'], format='%d-%m-%Y', errors='coerce')"
   ]
  },
  {
   "cell_type": "code",
   "execution_count": 17,
   "metadata": {},
   "outputs": [
    {
     "data": {
      "text/plain": [
       "SN             0\n",
       "Commodity      0\n",
       "Date         155\n",
       "Unit           0\n",
       "Cost           0\n",
       "Average        0\n",
       "dtype: int64"
      ]
     },
     "execution_count": 17,
     "metadata": {},
     "output_type": "execute_result"
    }
   ],
   "source": [
    "df.isnull().sum()"
   ]
  },
  {
   "cell_type": "code",
   "execution_count": 18,
   "metadata": {},
   "outputs": [],
   "source": [
    "df.dropna(inplace=True)"
   ]
  },
  {
   "cell_type": "code",
   "execution_count": 19,
   "metadata": {},
   "outputs": [
    {
     "data": {
      "text/plain": [
       "2023-03-16    110\n",
       "2023-04-19    109\n",
       "2023-03-14    109\n",
       "2023-03-15    108\n",
       "2023-03-21    108\n",
       "             ... \n",
       "2015-10-13     39\n",
       "2017-03-15     39\n",
       "2015-10-15     36\n",
       "2015-10-14     36\n",
       "2016-02-08     26\n",
       "Name: Date, Length: 2751, dtype: int64"
      ]
     },
     "execution_count": 19,
     "metadata": {},
     "output_type": "execute_result"
    }
   ],
   "source": [
    "df['Date'].value_counts()"
   ]
  },
  {
   "cell_type": "code",
   "execution_count": 20,
   "metadata": {},
   "outputs": [
    {
     "data": {
      "text/plain": [
       "SN           0\n",
       "Commodity    0\n",
       "Date         0\n",
       "Unit         0\n",
       "Cost         0\n",
       "Average      0\n",
       "dtype: int64"
      ]
     },
     "execution_count": 20,
     "metadata": {},
     "output_type": "execute_result"
    }
   ],
   "source": [
    "df.isnull().sum()"
   ]
  },
  {
   "cell_type": "code",
   "execution_count": 21,
   "metadata": {},
   "outputs": [
    {
     "data": {
      "text/plain": [
       "197156   2023-05-13\n",
       "197157   2023-05-13\n",
       "197158   2023-05-13\n",
       "197159   2023-05-13\n",
       "197160   2023-05-13\n",
       "Name: Date, dtype: datetime64[ns]"
      ]
     },
     "execution_count": 21,
     "metadata": {},
     "output_type": "execute_result"
    }
   ],
   "source": [
    "df['Date'].tail()"
   ]
  },
  {
   "cell_type": "code",
   "execution_count": 22,
   "metadata": {},
   "outputs": [],
   "source": [
    "df.drop('SN',axis=1,inplace =True)"
   ]
  },
  {
   "cell_type": "code",
   "execution_count": 23,
   "metadata": {},
   "outputs": [],
   "source": [
    "df['Month'] = df['Date'].dt.month\n",
    "df['Year'] = df['Date'].dt.year\n",
    "df['Day'] = df['Date'].dt.day"
   ]
  },
  {
   "cell_type": "code",
   "execution_count": 24,
   "metadata": {},
   "outputs": [
    {
     "data": {
      "text/html": [
       "<div>\n",
       "<style scoped>\n",
       "    .dataframe tbody tr th:only-of-type {\n",
       "        vertical-align: middle;\n",
       "    }\n",
       "\n",
       "    .dataframe tbody tr th {\n",
       "        vertical-align: top;\n",
       "    }\n",
       "\n",
       "    .dataframe thead th {\n",
       "        text-align: right;\n",
       "    }\n",
       "</style>\n",
       "<table border=\"1\" class=\"dataframe\">\n",
       "  <thead>\n",
       "    <tr style=\"text-align: right;\">\n",
       "      <th></th>\n",
       "      <th>Commodity</th>\n",
       "      <th>Date</th>\n",
       "      <th>Unit</th>\n",
       "      <th>Cost</th>\n",
       "      <th>Average</th>\n",
       "      <th>Month</th>\n",
       "      <th>Year</th>\n",
       "      <th>Day</th>\n",
       "    </tr>\n",
       "  </thead>\n",
       "  <tbody>\n",
       "    <tr>\n",
       "      <th>0</th>\n",
       "      <td>Tomato Big(Local)</td>\n",
       "      <td>2015-06-16</td>\n",
       "      <td>Kg</td>\n",
       "      <td>35</td>\n",
       "      <td>37.5</td>\n",
       "      <td>6</td>\n",
       "      <td>2015</td>\n",
       "      <td>16</td>\n",
       "    </tr>\n",
       "    <tr>\n",
       "      <th>1</th>\n",
       "      <td>Tomato Small(Local)</td>\n",
       "      <td>2015-06-16</td>\n",
       "      <td>Kg</td>\n",
       "      <td>26</td>\n",
       "      <td>29.0</td>\n",
       "      <td>6</td>\n",
       "      <td>2015</td>\n",
       "      <td>16</td>\n",
       "    </tr>\n",
       "    <tr>\n",
       "      <th>2</th>\n",
       "      <td>Potato Red</td>\n",
       "      <td>2015-06-16</td>\n",
       "      <td>Kg</td>\n",
       "      <td>20</td>\n",
       "      <td>20.5</td>\n",
       "      <td>6</td>\n",
       "      <td>2015</td>\n",
       "      <td>16</td>\n",
       "    </tr>\n",
       "    <tr>\n",
       "      <th>3</th>\n",
       "      <td>Potato White</td>\n",
       "      <td>2015-06-16</td>\n",
       "      <td>Kg</td>\n",
       "      <td>15</td>\n",
       "      <td>15.5</td>\n",
       "      <td>6</td>\n",
       "      <td>2015</td>\n",
       "      <td>16</td>\n",
       "    </tr>\n",
       "    <tr>\n",
       "      <th>4</th>\n",
       "      <td>Onion Dry (Indian)</td>\n",
       "      <td>2015-06-16</td>\n",
       "      <td>Kg</td>\n",
       "      <td>28</td>\n",
       "      <td>29.0</td>\n",
       "      <td>6</td>\n",
       "      <td>2015</td>\n",
       "      <td>16</td>\n",
       "    </tr>\n",
       "  </tbody>\n",
       "</table>\n",
       "</div>"
      ],
      "text/plain": [
       "             Commodity       Date Unit  Cost  Average  Month  Year  Day\n",
       "0    Tomato Big(Local) 2015-06-16   Kg    35     37.5      6  2015   16\n",
       "1  Tomato Small(Local) 2015-06-16   Kg    26     29.0      6  2015   16\n",
       "2           Potato Red 2015-06-16   Kg    20     20.5      6  2015   16\n",
       "3         Potato White 2015-06-16   Kg    15     15.5      6  2015   16\n",
       "4   Onion Dry (Indian) 2015-06-16   Kg    28     29.0      6  2015   16"
      ]
     },
     "execution_count": 24,
     "metadata": {},
     "output_type": "execute_result"
    }
   ],
   "source": [
    "df.head()"
   ]
  },
  {
   "cell_type": "code",
   "execution_count": 25,
   "metadata": {},
   "outputs": [],
   "source": [
    "df.drop(columns=['Date'], inplace=True)"
   ]
  },
  {
   "cell_type": "code",
   "execution_count": 26,
   "metadata": {},
   "outputs": [
    {
     "data": {
      "text/html": [
       "<div>\n",
       "<style scoped>\n",
       "    .dataframe tbody tr th:only-of-type {\n",
       "        vertical-align: middle;\n",
       "    }\n",
       "\n",
       "    .dataframe tbody tr th {\n",
       "        vertical-align: top;\n",
       "    }\n",
       "\n",
       "    .dataframe thead th {\n",
       "        text-align: right;\n",
       "    }\n",
       "</style>\n",
       "<table border=\"1\" class=\"dataframe\">\n",
       "  <thead>\n",
       "    <tr style=\"text-align: right;\">\n",
       "      <th></th>\n",
       "      <th>Commodity</th>\n",
       "      <th>Unit</th>\n",
       "      <th>Cost</th>\n",
       "      <th>Average</th>\n",
       "      <th>Month</th>\n",
       "      <th>Year</th>\n",
       "      <th>Day</th>\n",
       "    </tr>\n",
       "  </thead>\n",
       "  <tbody>\n",
       "    <tr>\n",
       "      <th>0</th>\n",
       "      <td>Tomato Big(Local)</td>\n",
       "      <td>Kg</td>\n",
       "      <td>35</td>\n",
       "      <td>37.5</td>\n",
       "      <td>6</td>\n",
       "      <td>2015</td>\n",
       "      <td>16</td>\n",
       "    </tr>\n",
       "    <tr>\n",
       "      <th>1</th>\n",
       "      <td>Tomato Small(Local)</td>\n",
       "      <td>Kg</td>\n",
       "      <td>26</td>\n",
       "      <td>29.0</td>\n",
       "      <td>6</td>\n",
       "      <td>2015</td>\n",
       "      <td>16</td>\n",
       "    </tr>\n",
       "    <tr>\n",
       "      <th>2</th>\n",
       "      <td>Potato Red</td>\n",
       "      <td>Kg</td>\n",
       "      <td>20</td>\n",
       "      <td>20.5</td>\n",
       "      <td>6</td>\n",
       "      <td>2015</td>\n",
       "      <td>16</td>\n",
       "    </tr>\n",
       "    <tr>\n",
       "      <th>3</th>\n",
       "      <td>Potato White</td>\n",
       "      <td>Kg</td>\n",
       "      <td>15</td>\n",
       "      <td>15.5</td>\n",
       "      <td>6</td>\n",
       "      <td>2015</td>\n",
       "      <td>16</td>\n",
       "    </tr>\n",
       "    <tr>\n",
       "      <th>4</th>\n",
       "      <td>Onion Dry (Indian)</td>\n",
       "      <td>Kg</td>\n",
       "      <td>28</td>\n",
       "      <td>29.0</td>\n",
       "      <td>6</td>\n",
       "      <td>2015</td>\n",
       "      <td>16</td>\n",
       "    </tr>\n",
       "  </tbody>\n",
       "</table>\n",
       "</div>"
      ],
      "text/plain": [
       "             Commodity Unit  Cost  Average  Month  Year  Day\n",
       "0    Tomato Big(Local)   Kg    35     37.5      6  2015   16\n",
       "1  Tomato Small(Local)   Kg    26     29.0      6  2015   16\n",
       "2           Potato Red   Kg    20     20.5      6  2015   16\n",
       "3         Potato White   Kg    15     15.5      6  2015   16\n",
       "4   Onion Dry (Indian)   Kg    28     29.0      6  2015   16"
      ]
     },
     "execution_count": 26,
     "metadata": {},
     "output_type": "execute_result"
    }
   ],
   "source": [
    "df.head()"
   ]
  },
  {
   "cell_type": "code",
   "execution_count": 27,
   "metadata": {},
   "outputs": [],
   "source": [
    "df['Average']=df['Average'].astype(int)\n",
    "df['Cost']=df['Cost'].astype(int)"
   ]
  },
  {
   "cell_type": "code",
   "execution_count": 28,
   "metadata": {},
   "outputs": [],
   "source": [
    "df['Commodity']=df['Commodity'].str.split().str.slice(start=0,stop=3).str.join(\" \")"
   ]
  },
  {
   "cell_type": "code",
   "execution_count": 29,
   "metadata": {},
   "outputs": [
    {
     "data": {
      "text/html": [
       "<div>\n",
       "<style scoped>\n",
       "    .dataframe tbody tr th:only-of-type {\n",
       "        vertical-align: middle;\n",
       "    }\n",
       "\n",
       "    .dataframe tbody tr th {\n",
       "        vertical-align: top;\n",
       "    }\n",
       "\n",
       "    .dataframe thead th {\n",
       "        text-align: right;\n",
       "    }\n",
       "</style>\n",
       "<table border=\"1\" class=\"dataframe\">\n",
       "  <thead>\n",
       "    <tr style=\"text-align: right;\">\n",
       "      <th></th>\n",
       "      <th>Commodity</th>\n",
       "      <th>Unit</th>\n",
       "      <th>Cost</th>\n",
       "      <th>Average</th>\n",
       "      <th>Month</th>\n",
       "      <th>Year</th>\n",
       "      <th>Day</th>\n",
       "    </tr>\n",
       "  </thead>\n",
       "  <tbody>\n",
       "    <tr>\n",
       "      <th>0</th>\n",
       "      <td>Tomato Big(Local)</td>\n",
       "      <td>Kg</td>\n",
       "      <td>35</td>\n",
       "      <td>37</td>\n",
       "      <td>6</td>\n",
       "      <td>2015</td>\n",
       "      <td>16</td>\n",
       "    </tr>\n",
       "    <tr>\n",
       "      <th>1</th>\n",
       "      <td>Tomato Small(Local)</td>\n",
       "      <td>Kg</td>\n",
       "      <td>26</td>\n",
       "      <td>29</td>\n",
       "      <td>6</td>\n",
       "      <td>2015</td>\n",
       "      <td>16</td>\n",
       "    </tr>\n",
       "    <tr>\n",
       "      <th>2</th>\n",
       "      <td>Potato Red</td>\n",
       "      <td>Kg</td>\n",
       "      <td>20</td>\n",
       "      <td>20</td>\n",
       "      <td>6</td>\n",
       "      <td>2015</td>\n",
       "      <td>16</td>\n",
       "    </tr>\n",
       "    <tr>\n",
       "      <th>3</th>\n",
       "      <td>Potato White</td>\n",
       "      <td>Kg</td>\n",
       "      <td>15</td>\n",
       "      <td>15</td>\n",
       "      <td>6</td>\n",
       "      <td>2015</td>\n",
       "      <td>16</td>\n",
       "    </tr>\n",
       "    <tr>\n",
       "      <th>4</th>\n",
       "      <td>Onion Dry (Indian)</td>\n",
       "      <td>Kg</td>\n",
       "      <td>28</td>\n",
       "      <td>29</td>\n",
       "      <td>6</td>\n",
       "      <td>2015</td>\n",
       "      <td>16</td>\n",
       "    </tr>\n",
       "    <tr>\n",
       "      <th>...</th>\n",
       "      <td>...</td>\n",
       "      <td>...</td>\n",
       "      <td>...</td>\n",
       "      <td>...</td>\n",
       "      <td>...</td>\n",
       "      <td>...</td>\n",
       "      <td>...</td>\n",
       "    </tr>\n",
       "    <tr>\n",
       "      <th>197156</th>\n",
       "      <td>Garlic Dry</td>\n",
       "      <td>Kg</td>\n",
       "      <td>100</td>\n",
       "      <td>110</td>\n",
       "      <td>5</td>\n",
       "      <td>2023</td>\n",
       "      <td>13</td>\n",
       "    </tr>\n",
       "    <tr>\n",
       "      <th>197157</th>\n",
       "      <td>Fish Fresh(Rahu)</td>\n",
       "      <td>KG</td>\n",
       "      <td>270</td>\n",
       "      <td>275</td>\n",
       "      <td>5</td>\n",
       "      <td>2023</td>\n",
       "      <td>13</td>\n",
       "    </tr>\n",
       "    <tr>\n",
       "      <th>197158</th>\n",
       "      <td>Fish Fresh(Bachuwa)</td>\n",
       "      <td>KG</td>\n",
       "      <td>225</td>\n",
       "      <td>230</td>\n",
       "      <td>5</td>\n",
       "      <td>2023</td>\n",
       "      <td>13</td>\n",
       "    </tr>\n",
       "    <tr>\n",
       "      <th>197159</th>\n",
       "      <td>Fish Fresh(Chhadi)</td>\n",
       "      <td>KG</td>\n",
       "      <td>220</td>\n",
       "      <td>225</td>\n",
       "      <td>5</td>\n",
       "      <td>2023</td>\n",
       "      <td>13</td>\n",
       "    </tr>\n",
       "    <tr>\n",
       "      <th>197160</th>\n",
       "      <td>Fish Fresh(Mungari)</td>\n",
       "      <td>KG</td>\n",
       "      <td>240</td>\n",
       "      <td>245</td>\n",
       "      <td>5</td>\n",
       "      <td>2023</td>\n",
       "      <td>13</td>\n",
       "    </tr>\n",
       "  </tbody>\n",
       "</table>\n",
       "<p>197006 rows × 7 columns</p>\n",
       "</div>"
      ],
      "text/plain": [
       "                  Commodity Unit  Cost  Average  Month  Year  Day\n",
       "0         Tomato Big(Local)   Kg    35       37      6  2015   16\n",
       "1       Tomato Small(Local)   Kg    26       29      6  2015   16\n",
       "2                Potato Red   Kg    20       20      6  2015   16\n",
       "3              Potato White   Kg    15       15      6  2015   16\n",
       "4        Onion Dry (Indian)   Kg    28       29      6  2015   16\n",
       "...                     ...  ...   ...      ...    ...   ...  ...\n",
       "197156           Garlic Dry   Kg   100      110      5  2023   13\n",
       "197157     Fish Fresh(Rahu)   KG   270      275      5  2023   13\n",
       "197158  Fish Fresh(Bachuwa)   KG   225      230      5  2023   13\n",
       "197159   Fish Fresh(Chhadi)   KG   220      225      5  2023   13\n",
       "197160  Fish Fresh(Mungari)   KG   240      245      5  2023   13\n",
       "\n",
       "[197006 rows x 7 columns]"
      ]
     },
     "execution_count": 29,
     "metadata": {},
     "output_type": "execute_result"
    }
   ],
   "source": [
    "df"
   ]
  },
  {
   "cell_type": "code",
   "execution_count": 30,
   "metadata": {},
   "outputs": [
    {
     "data": {
      "image/png": "[encoded data removed]",
      "text/plain": [
       "<Figure size 500x500 with 1 Axes>"
      ]
     },
     "metadata": {},
     "output_type": "display_data"
    }
   ],
   "source": [
    "df.plot(kind='box')\n",
    "plt.show()"
   ]
  },
  {
   "cell_type": "code",
   "execution_count": 31,
   "metadata": {},
   "outputs": [
    {
     "data": {
      "text/plain": [
       "<AxesSubplot:xlabel='Cost', ylabel='Average'>"
      ]
     },
     "execution_count": 31,
     "metadata": {},
     "output_type": "execute_result"
    },
    {
     "data": {
      "image/png": "[encoded data removed]",
      "text/plain": [
       "<Figure size 500x500 with 1 Axes>"
      ]
     },
     "metadata": {},
     "output_type": "display_data"
    }
   ],
   "source": [
    "sns.scatterplot(x=df['Cost'],y=df['Average'])"
   ]
  },
  {
   "cell_type": "code",
   "execution_count": 32,
   "metadata": {},
   "outputs": [
    {
     "data": {
      "text/plain": [
       "<AxesSubplot:xlabel='Year', ylabel='Average'>"
      ]
     },
     "execution_count": 32,
     "metadata": {},
     "output_type": "execute_result"
    },
    {
     "data": {
      "image/png": "[encoded data removed]",
      "text/plain": [
       "<Figure size 500x500 with 1 Axes>"
      ]
     },
     "metadata": {},
     "output_type": "display_data"
    }
   ],
   "source": [
    "sorted_nb=df.groupby(['Year'])['Average'].median().sort_values()\n",
    "sns.boxplot(x=df['Year'],y=df['Average'], order=list(sorted_nb.index))"
   ]
  },
  {
   "cell_type": "code",
   "execution_count": 33,
   "metadata": {},
   "outputs": [],
   "source": [
    "X = df[['Commodity','Year','Average','Unit']]\n",
    "Y = df['Cost']"
   ]
  },
  {
   "cell_type": "code",
   "execution_count": 34,
   "metadata": {},
   "outputs": [
    {
     "data": {
      "text/html": [
       "<div>\n",
       "<style scoped>\n",
       "    .dataframe tbody tr th:only-of-type {\n",
       "        vertical-align: middle;\n",
       "    }\n",
       "\n",
       "    .dataframe tbody tr th {\n",
       "        vertical-align: top;\n",
       "    }\n",
       "\n",
       "    .dataframe thead th {\n",
       "        text-align: right;\n",
       "    }\n",
       "</style>\n",
       "<table border=\"1\" class=\"dataframe\">\n",
       "  <thead>\n",
       "    <tr style=\"text-align: right;\">\n",
       "      <th></th>\n",
       "      <th>Commodity</th>\n",
       "      <th>Year</th>\n",
       "      <th>Average</th>\n",
       "      <th>Unit</th>\n",
       "    </tr>\n",
       "  </thead>\n",
       "  <tbody>\n",
       "    <tr>\n",
       "      <th>0</th>\n",
       "      <td>Tomato Big(Local)</td>\n",
       "      <td>2015</td>\n",
       "      <td>37</td>\n",
       "      <td>Kg</td>\n",
       "    </tr>\n",
       "    <tr>\n",
       "      <th>1</th>\n",
       "      <td>Tomato Small(Local)</td>\n",
       "      <td>2015</td>\n",
       "      <td>29</td>\n",
       "      <td>Kg</td>\n",
       "    </tr>\n",
       "    <tr>\n",
       "      <th>2</th>\n",
       "      <td>Potato Red</td>\n",
       "      <td>2015</td>\n",
       "      <td>20</td>\n",
       "      <td>Kg</td>\n",
       "    </tr>\n",
       "    <tr>\n",
       "      <th>3</th>\n",
       "      <td>Potato White</td>\n",
       "      <td>2015</td>\n",
       "      <td>15</td>\n",
       "      <td>Kg</td>\n",
       "    </tr>\n",
       "    <tr>\n",
       "      <th>4</th>\n",
       "      <td>Onion Dry (Indian)</td>\n",
       "      <td>2015</td>\n",
       "      <td>29</td>\n",
       "      <td>Kg</td>\n",
       "    </tr>\n",
       "    <tr>\n",
       "      <th>...</th>\n",
       "      <td>...</td>\n",
       "      <td>...</td>\n",
       "      <td>...</td>\n",
       "      <td>...</td>\n",
       "    </tr>\n",
       "    <tr>\n",
       "      <th>197156</th>\n",
       "      <td>Garlic Dry</td>\n",
       "      <td>2023</td>\n",
       "      <td>110</td>\n",
       "      <td>Kg</td>\n",
       "    </tr>\n",
       "    <tr>\n",
       "      <th>197157</th>\n",
       "      <td>Fish Fresh(Rahu)</td>\n",
       "      <td>2023</td>\n",
       "      <td>275</td>\n",
       "      <td>KG</td>\n",
       "    </tr>\n",
       "    <tr>\n",
       "      <th>197158</th>\n",
       "      <td>Fish Fresh(Bachuwa)</td>\n",
       "      <td>2023</td>\n",
       "      <td>230</td>\n",
       "      <td>KG</td>\n",
       "    </tr>\n",
       "    <tr>\n",
       "      <th>197159</th>\n",
       "      <td>Fish Fresh(Chhadi)</td>\n",
       "      <td>2023</td>\n",
       "      <td>225</td>\n",
       "      <td>KG</td>\n",
       "    </tr>\n",
       "    <tr>\n",
       "      <th>197160</th>\n",
       "      <td>Fish Fresh(Mungari)</td>\n",
       "      <td>2023</td>\n",
       "      <td>245</td>\n",
       "      <td>KG</td>\n",
       "    </tr>\n",
       "  </tbody>\n",
       "</table>\n",
       "<p>197006 rows × 4 columns</p>\n",
       "</div>"
      ],
      "text/plain": [
       "                  Commodity  Year  Average Unit\n",
       "0         Tomato Big(Local)  2015       37   Kg\n",
       "1       Tomato Small(Local)  2015       29   Kg\n",
       "2                Potato Red  2015       20   Kg\n",
       "3              Potato White  2015       15   Kg\n",
       "4        Onion Dry (Indian)  2015       29   Kg\n",
       "...                     ...   ...      ...  ...\n",
       "197156           Garlic Dry  2023      110   Kg\n",
       "197157     Fish Fresh(Rahu)  2023      275   KG\n",
       "197158  Fish Fresh(Bachuwa)  2023      230   KG\n",
       "197159   Fish Fresh(Chhadi)  2023      225   KG\n",
       "197160  Fish Fresh(Mungari)  2023      245   KG\n",
       "\n",
       "[197006 rows x 4 columns]"
      ]
     },
     "execution_count": 34,
     "metadata": {},
     "output_type": "execute_result"
    }
   ],
   "source": [
    "X"
   ]
  },
  {
   "cell_type": "code",
   "execution_count": 35,
   "metadata": {},
   "outputs": [],
   "source": [
    "from sklearn.model_selection import train_test_split\n",
    "X_train, X_test, Y_train, Y_test=train_test_split(X,Y,test_size=0.2,random_state=10)"
   ]
  },
  {
   "cell_type": "code",
   "execution_count": 36,
   "metadata": {},
   "outputs": [],
   "source": [
    "from sklearn.linear_model import LinearRegression"
   ]
  },
  {
   "cell_type": "code",
   "execution_count": 37,
   "metadata": {},
   "outputs": [],
   "source": [
    "from sklearn.preprocessing import OneHotEncoder\n",
    "from sklearn.compose import make_column_transformer\n",
    "from sklearn.pipeline import make_pipeline\n",
    "from sklearn.metrics import r2_score"
   ]
  },
  {
   "cell_type": "code",
   "execution_count": 38,
   "metadata": {},
   "outputs": [
    {
     "data": {
      "text/plain": [
       "OneHotEncoder()"
      ]
     },
     "execution_count": 38,
     "metadata": {},
     "output_type": "execute_result"
    }
   ],
   "source": [
    "ohe=OneHotEncoder()\n",
    "ohe.fit(X[['Commodity','Unit']])"
   ]
  },
  {
   "cell_type": "code",
   "execution_count": 39,
   "metadata": {},
   "outputs": [],
   "source": [
    "c_trans=make_column_transformer((OneHotEncoder(categories=ohe.categories_),['Commodity','Unit']),remainder='passthrough')"
   ]
  },
  {
   "cell_type": "code",
   "execution_count": 40,
   "metadata": {},
   "outputs": [],
   "source": [
    "lr=LinearRegression()"
   ]
  },
  {
   "cell_type": "code",
   "execution_count": 41,
   "metadata": {},
   "outputs": [],
   "source": [
    "pipe=make_pipeline(c_trans,lr)"
   ]
  },
  {
   "cell_type": "code",
   "execution_count": 42,
   "metadata": {},
   "outputs": [
    {
     "data": {
      "text/plain": [
       "Pipeline(steps=[('columntransformer',\n",
       "                 ColumnTransformer(remainder='passthrough',\n",
       "                                   transformers=[('onehotencoder',\n",
       "                                                  OneHotEncoder(categories=[array(['Apple(Fuji)', 'Apple(Jholey)', 'Arum', 'Asparagus', 'Bakula',\n",
       "       'Bamboo Shoot', 'Banana', 'Barela', 'Bauhania flower',\n",
       "       'Bitter Gourd', 'Bottle Gourd', 'Brd Leaf Mustard', 'Brinjal Long',\n",
       "       'Brinjal Round', 'Brocauli', 'Cabbage', 'Cabb...\n",
       "       'Sword Bean', 'Tamarind', 'Tofu', 'Tomato Big',\n",
       "       'Tomato Big(Indian)', 'Tomato Big(Local)', 'Tomato Small(Indian)',\n",
       "       'Tomato Small(Local)', 'Tomato Small(Terai)',\n",
       "       'Tomato Small(Tunnel)', 'Turnip', 'Turnip A',\n",
       "       'Water Melon(Dotted)', 'Water Melon(Green)', 'Yam'], dtype=object),\n",
       "                                                                            array(['1 Pc', 'Doz', 'KG', 'Kg'], dtype=object)]),\n",
       "                                                  ['Commodity', 'Unit'])])),\n",
       "                ('linearregression', LinearRegression())])"
      ]
     },
     "execution_count": 42,
     "metadata": {},
     "output_type": "execute_result"
    }
   ],
   "source": [
    "\n",
    "X_train = pd.DataFrame(X_train, columns=['Commodity', 'Year', 'Average', 'Unit'])\n",
    "pipe.fit(X_train, Y_train)\n"
   ]
  },
  {
   "cell_type": "code",
   "execution_count": 43,
   "metadata": {},
   "outputs": [],
   "source": [
    "Y_pred=pipe.predict(X_test)"
   ]
  },
  {
   "cell_type": "code",
   "execution_count": 44,
   "metadata": {},
   "outputs": [
    {
     "data": {
      "text/plain": [
       "0.9982393766732287"
      ]
     },
     "execution_count": 44,
     "metadata": {},
     "output_type": "execute_result"
    }
   ],
   "source": [
    "r2_score(Y_test,Y_pred)"
   ]
  },
  {
   "cell_type": "code",
   "execution_count": 45,
   "metadata": {},
   "outputs": [],
   "source": [
    "scores=[]\n",
    "for i in range(1000):\n",
    "    X_train, X_test, Y_train, Y_test=train_test_split(X,Y,test_size=0.1,random_state=1)\n",
    "    lr=LinearRegression()\n",
    "    pipe=make_pipeline(c_trans,lr)\n",
    "    pipe.fit(X_train,Y_train)\n",
    "    Y_pred=pipe.predict(X_test)\n",
    "    scores.append(r2_score(Y_test,Y_pred))\n",
    "    \n",
    "    "
   ]
  },
  {
   "cell_type": "code",
   "execution_count": 46,
   "metadata": {},
   "outputs": [
    {
     "data": {
      "text/plain": [
       "0"
      ]
     },
     "execution_count": 46,
     "metadata": {},
     "output_type": "execute_result"
    }
   ],
   "source": [
    "np.argmax(scores)"
   ]
  },
  {
   "cell_type": "code",
   "execution_count": 47,
   "metadata": {},
   "outputs": [
    {
     "data": {
      "text/plain": [
       "0.9980869537897146"
      ]
     },
     "execution_count": 47,
     "metadata": {},
     "output_type": "execute_result"
    }
   ],
   "source": [
    "scores[np.argmax(scores)]"
   ]
  },
  {
   "cell_type": "code",
   "execution_count": 48,
   "metadata": {},
   "outputs": [
    {
     "data": {
      "text/plain": [
       "array([33.87009056])"
      ]
     },
     "execution_count": 48,
     "metadata": {},
     "output_type": "execute_result"
    }
   ],
   "source": [
    "pipe.predict(pd.DataFrame(columns=X_test.columns,data=np.array(['Tomato Big(Local)',2015,37,'Kg']).reshape(1,4)))"
   ]
  },
  {
   "cell_type": "code",
   "execution_count": 49,
   "metadata": {},
   "outputs": [
    {
     "data": {
      "text/plain": [
       "0.9980497588520921"
      ]
     },
     "execution_count": 49,
     "metadata": {},
     "output_type": "execute_result"
    }
   ],
   "source": [
    "X_train, X_test, Y_train, Y_test=train_test_split(X,Y,test_size=0.1,random_state=np.argmax(scores))\n",
    "lr=LinearRegression()\n",
    "pipe=make_pipeline(c_trans,lr)\n",
    "pipe.fit(X_train,Y_train)\n",
    "Y_pred=pipe.predict(X_test)\n",
    "r2_score(Y_test,Y_pred)\n"
   ]
  },
  {
   "cell_type": "code",
   "execution_count": 50,
   "metadata": {},
   "outputs": [],
   "source": [
    "import pickle"
   ]
  },
  {
   "cell_type": "code",
   "execution_count": 51,
   "metadata": {},
   "outputs": [],
   "source": [
    "pickle.dump(pipe,open('LRModel.pkl','wb'))"
   ]
  },
  {
   "cell_type": "code",
   "execution_count": 52,
   "metadata": {},
   "outputs": [
    {
     "data": {
      "text/plain": [
       "array([33.89591361])"
      ]
     },
     "execution_count": 52,
     "metadata": {},
     "output_type": "execute_result"
    }
   ],
   "source": [
    "pipe.predict(pd.DataFrame(columns=['Commodity','Year','Average','Unit'],data=np.array(['Tomato Big(Local)',2015,37,'Kg']).reshape(1,4)))"
   ]
  },
  {
   "cell_type": "code",
   "execution_count": 53,
   "metadata": {},
   "outputs": [
    {
     "data": {
      "text/plain": [
       "array(['Apple(Fuji)', 'Apple(Jholey)', 'Arum', 'Asparagus', 'Bakula',\n",
       "       'Bamboo Shoot', 'Banana', 'Barela', 'Bauhania flower',\n",
       "       'Bitter Gourd', 'Bottle Gourd', 'Brd Leaf Mustard', 'Brinjal Long',\n",
       "       'Brinjal Round', 'Brocauli', 'Cabbage', 'Cabbage(Local)',\n",
       "       'Cabbage(Terai)', 'Capsicum', 'Carrot(Local)', 'Carrot(Terai)',\n",
       "       'Cauli Local', 'Cauli Local(Jyapu)', 'Cauli Terai', 'Celery',\n",
       "       'Chilli Dry', 'Chilli Green', 'Chilli Green(Akbare)',\n",
       "       'Chilli Green(Bullet)', 'Chilli Green(Machhe)', 'Christophine',\n",
       "       'Clive Dry', 'Clive Green', 'Coriander Green', 'Cow pea(Long)',\n",
       "       'Cowpea(Short)', 'Cress Leaf', 'Cucumber(Hybrid)',\n",
       "       'Cucumber(Local)', 'Drumstick', 'Fennel Leaf', 'Fenugreek Leaf',\n",
       "       'Fish Fresh', 'Fish Fresh(Bachuwa)', 'Fish Fresh(Chhadi)',\n",
       "       'Fish Fresh(Mungari)', 'Fish Fresh(Rahu)', 'French Bean(Hybrid)',\n",
       "       'French Bean(Local)', 'French Bean(Rajma)', 'Garlic Dry',\n",
       "       'Garlic Dry Chinese', 'Garlic Green', 'Ginger', 'Grapes(Black)',\n",
       "       'Grapes(Green)', 'Green Peas', 'Guava', 'Gundruk', 'Jack Fruit',\n",
       "       'Kinnow', 'Kiwi', 'Knolkhol', 'Lemon', 'Lettuce', 'Lime',\n",
       "       'Litchi(Indian)', 'Litchi(Local)', 'Maize', 'Mandarin',\n",
       "       'Mango(Calcutte)', 'Mango(Chousa)', 'Mango(Dushari)',\n",
       "       'Mango(Maldah)', 'Mint', 'Mombin', 'Mushroom(Button)',\n",
       "       'Mushroom(Kanya)', 'Musk Melon', 'Mustard Leaf', 'Neuro', 'Okara',\n",
       "       'Onion Dry (Chinese)', 'Onion Dry (Indian)', 'Onion Green',\n",
       "       'Orange', 'Orange(Indian)', 'Papaya', 'Papaya(Indian)', 'Parseley',\n",
       "       'Pear(Chinese)', 'Pear(Local)', 'Pineapple',\n",
       "       'Pointed Gourd(Local)', 'Pointed Gourd(Terai)', 'Pomegranate',\n",
       "       'Potato Red', 'Potato Red(Indian)', 'Potato Red(Mude)',\n",
       "       'Potato White', 'Pumpkin', 'Raddish Red', 'Raddish White(Hybrid)',\n",
       "       'Raddish White(Local)', 'Red Cabbbage', 'Smooth Gourd',\n",
       "       'Snake Gourd', 'Soyabean Green', 'Spinach Leaf', 'Sponge Gourd',\n",
       "       'Squash(Long)', 'Squash(Round)', 'Strawberry', 'Sugarbeet',\n",
       "       'Sugarcane', 'Sweet Lime', 'Sweet Orange', 'Sweet Potato',\n",
       "       'Sword Bean', 'Tamarind', 'Tofu', 'Tomato Big',\n",
       "       'Tomato Big(Indian)', 'Tomato Big(Local)', 'Tomato Small(Indian)',\n",
       "       'Tomato Small(Local)', 'Tomato Small(Terai)',\n",
       "       'Tomato Small(Tunnel)', 'Turnip', 'Turnip A',\n",
       "       'Water Melon(Dotted)', 'Water Melon(Green)', 'Yam'], dtype=object)"
      ]
     },
     "execution_count": 53,
     "metadata": {},
     "output_type": "execute_result"
    }
   ],
   "source": [
    "pipe.steps[0][1].transformers[0][1].categories[0]"
   ]
  }
 ],
 "metadata": {
  "kernelspec": {
   "display_name": "base",
   "language": "python",
   "name": "python3"
  },
  "language_info": {
   "codemirror_mode": {
    "name": "ipython",
    "version": 3
   },
   "file_extension": ".py",
   "mimetype": "text/x-python",
   "name": "python",
   "nbconvert_exporter": "python",
   "pygments_lexer": "ipython3",
   "version": "3.9.13"
  },
  "orig_nbformat": 4
 },
 "nbformat": 4,
 "nbformat_minor": 2
}
